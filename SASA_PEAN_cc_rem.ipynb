{
  "nbformat": 4,
  "nbformat_minor": 0,
  "metadata": {
    "colab": {
      "name": "SASA-PEAN_cc_rem.ipynb",
      "provenance": [],
      "authorship_tag": "ABX9TyNNjGlSciteVcibF794RT0f",
      "include_colab_link": true
    },
    "kernelspec": {
      "display_name": "Python 3",
      "name": "python3"
    }
  },
  "cells": [
    {
      "cell_type": "markdown",
      "metadata": {
        "id": "view-in-github",
        "colab_type": "text"
      },
      "source": [
        "<a href=\"https://colab.research.google.com/github/thatsciencegal/flood_pheno/blob/main/SASA_PEAN_cc_rem.ipynb\" target=\"_parent\"><img src=\"https://colab.research.google.com/assets/colab-badge.svg\" alt=\"Open In Colab\"/></a>"
      ]
    },
    {
      "cell_type": "markdown",
      "metadata": {
        "id": "0WIk5HxwwVB8"
      },
      "source": [
        "Initialize Google Earth Engine"
      ]
    },
    {
      "cell_type": "code",
      "metadata": {
        "id": "gpsF-ieimzax"
      },
      "source": [
        "import ee\r\n",
        "\r\n",
        "## Trigger the authentication flow\r\n",
        "ee.Authenticate()\r\n",
        "\r\n",
        "## Initialize the library\r\n",
        "ee.Initialize()\r\n",
        "\r\n",
        "## Test the API by printing elevation of Mt. Everest\r\n",
        "dem = ee.Image('USGS/SRTMGL1_003')\r\n",
        "xy = ee.Geometry.Point([86.9250, 27.9881])\r\n",
        "elev = dem.sample(xy, 30).first().get('elevation').getInfo()\r\n",
        "print('Mount Everest elevation (m):', elev)"
      ],
      "execution_count": null,
      "outputs": []
    },
    {
      "cell_type": "markdown",
      "metadata": {
        "id": "_QyXQsRAwdvX"
      },
      "source": [
        "Import the Landsat 8 data for the area between São Salvador and Peixe Angical"
      ]
    },
    {
      "cell_type": "code",
      "metadata": {
        "id": "-BN6vkG7wkga"
      },
      "source": [
        "## Import the Landsat 8 data for the area between São Salvador and Peixe Angical\r\n",
        "l8SasaPean = ee.ImageCollection('LANDSAT/LC08/C01/T1_SR')\\\r\n",
        "          .filter(ee.Filter.eq('WRS_PATH', 222))\\\r\n",
        "          .filter(ee.Filter.eq('WRS_ROW', 69))\\\r\n",
        "          .filterDate('2017-07-01', '2018-06-30')\r\n",
        "print('Collection: ')\r\n",
        "l8SasaPean.getInfo()"
      ],
      "execution_count": null,
      "outputs": []
    }
  ]
}