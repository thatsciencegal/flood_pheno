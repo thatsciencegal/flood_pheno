{
  "nbformat": 4,
  "nbformat_minor": 0,
  "metadata": {
    "colab": {
      "name": "SASA-PEAN_cc_rem.ipynb",
      "provenance": [],
      "authorship_tag": "ABX9TyOhZQu714tRhVfcdh+fJzTa",
      "include_colab_link": true
    },
    "kernelspec": {
      "display_name": "Python 3",
      "name": "python3"
    }
  },
  "cells": [
    {
      "cell_type": "markdown",
      "metadata": {
        "id": "view-in-github",
        "colab_type": "text"
      },
      "source": [
        "<a href=\"https://colab.research.google.com/github/thatsciencegal/flood_pheno/blob/main/SASA_PEAN_cc_rem.ipynb\" target=\"_parent\"><img src=\"https://colab.research.google.com/assets/colab-badge.svg\" alt=\"Open In Colab\"/></a>"
      ]
    },
    {
      "cell_type": "markdown",
      "metadata": {
        "id": "0WIk5HxwwVB8"
      },
      "source": [
        "Initialize Google Earth Engine"
      ]
    },
    {
      "cell_type": "code",
      "metadata": {
        "id": "gpsF-ieimzax"
      },
      "source": [
        "import ee\r\n",
        "\r\n",
        "## Trigger the authentication flow\r\n",
        "ee.Authenticate()\r\n",
        "\r\n",
        "## Initialize the library\r\n",
        "ee.Initialize()\r\n",
        "\r\n",
        "## Test the API by printing elevation of Mt. Everest\r\n",
        "dem = ee.Image('USGS/SRTMGL1_003')\r\n",
        "xy = ee.Geometry.Point([86.9250, 27.9881])\r\n",
        "elev = dem.sample(xy, 30).first().get('elevation').getInfo()\r\n",
        "print('Mount Everest elevation (m):', elev)"
      ],
      "execution_count": null,
      "outputs": []
    },
    {
      "cell_type": "markdown",
      "metadata": {
        "id": "Dq8CR7S9yGyI"
      },
      "source": [
        "Add mapping abilities"
      ]
    },
    {
      "cell_type": "code",
      "metadata": {
        "id": "WGb13zabyLxz"
      },
      "source": [
        "import folium\r\n",
        "\r\n",
        "# Define the URL format used for Earth Engine generated map tiles.\r\n",
        "EE_TILES = 'https://earthengine.googleapis.com/map/{mapid}/{{z}}/{{x}}/{{y}}?token={token}'\r\n",
        "\r\n",
        "#@title Mapdisplay: Display GEE objects using folium.\r\n",
        "def Mapdisplay(center, dicc, Tiles=\"OpensTreetMap\",zoom_start=10):\r\n",
        "    '''\r\n",
        "    :param center: Center of the map (Latitude and Longitude).\r\n",
        "    :param dicc: Earth Engine Geometries or Tiles dictionary\r\n",
        "    :param Tiles: Mapbox Bright,Mapbox Control Room,Stamen Terrain,Stamen Toner,stamenwatercolor,cartodbpositron.\r\n",
        "    :zoom_start: Initial zoom level for the map.\r\n",
        "    :return: A folium.Map object.\r\n",
        "    '''\r\n",
        "    mapViz = folium.Map(location=center,tiles=Tiles, zoom_start=zoom_start)\r\n",
        "    for k,v in dicc.items():\r\n",
        "      if ee.image.Image in [type(x) for x in v.values()]:\r\n",
        "        folium.TileLayer(\r\n",
        "            tiles = v[\"tile_fetcher\"].url_format,\r\n",
        "            attr  = 'Google Earth Engine',\r\n",
        "            overlay =True,\r\n",
        "            name  = k\r\n",
        "          ).add_to(mapViz)\r\n",
        "      else:\r\n",
        "        folium.GeoJson(\r\n",
        "        data = v,\r\n",
        "        name = k\r\n",
        "          ).add_to(mapViz)\r\n",
        "    mapViz.add_child(folium.LayerControl())\r\n",
        "    return mapViz"
      ],
      "execution_count": 24,
      "outputs": []
    },
    {
      "cell_type": "markdown",
      "metadata": {
        "id": "_QyXQsRAwdvX"
      },
      "source": [
        "Import the Landsat 8 data for the area between São Salvador and Peixe Angical"
      ]
    },
    {
      "cell_type": "code",
      "metadata": {
        "colab": {
          "base_uri": "https://localhost:8080/"
        },
        "id": "-BN6vkG7wkga",
        "outputId": "69a10bb8-ee55-4c31-a2a6-caeb4d45b2c2"
      },
      "source": [
        "## Import the Landsat 8 data for the area between São Salvador and Peixe Angical\r\n",
        "## Import only the data with < 40% cloud cover\r\n",
        "\r\n",
        "l8SasaPean = ee.ImageCollection('LANDSAT/LC08/C01/T1_SR')\\\r\n",
        "          .filter(ee.Filter.eq('WRS_PATH', 222))\\\r\n",
        "          .filter(ee.Filter.eq('WRS_ROW', 69))\\\r\n",
        "          .filterDate('2017-07-01', '2018-06-30')\\\r\n",
        "          .filterMetadata('CLOUD_COVER', 'less_than', 40)\r\n",
        "\r\n",
        "count = l8SasaPean.size()\r\n",
        "print('Image count:', count.getInfo())\r\n",
        "\r\n",
        "## Get sun angle info\r\n",
        "sunAz = l8SasaPean.aggregate_array('SOLAR_AZIMUTH_ANGLE')\r\n",
        "print(sunAz.getInfo())\r\n",
        "\r\n",
        "sunZen = l8SasaPean.aggregate_array('SOLAR_ZENITH_ANGLE')\r\n",
        "print(sunZen.getInfo())\r\n",
        "\r\n",
        "## Change list into dataframe\r\n",
        "from pandas import DataFrame\r\n",
        "import pandas as pd\r\n",
        "\r\n",
        "sunAzDf = DataFrame(sunAz.getInfo(), columns=['solar_azimuth'])\r\n",
        "sunZenDf = DataFrame(sunZen.getInfo(), columns=['solar_zenith'])\r\n",
        "\r\n",
        "frames = [sunAzDf, sunZenDf]\r\n",
        "\r\n",
        "sunAngles = pd.concat(frames, axis=1)\r\n",
        "print(sunAngles)\r\n",
        "\r\n"
      ],
      "execution_count": 73,
      "outputs": [
        {
          "output_type": "stream",
          "text": [
            "Image count: 13\n",
            "[41.201656, 44.603764, 49.145565, 55.083778, 62.930813, 86.018692, 109.071152, 106.020981, 63.799332, 46.45969, 41.515007, 38.957207, 38.370541]\n",
            "[45.534126, 43.23679, 39.761745, 35.508755, 31.049667, 24.623917, 25.051178, 31.107407, 34.019474, 39.332912, 42.298904, 44.779724, 46.276974]\n",
            "    solar_azimuth\n",
            "0       41.201656\n",
            "1       44.603764\n",
            "2       49.145565\n",
            "3       55.083778\n",
            "4       62.930813\n",
            "5       86.018692\n",
            "6      109.071152\n",
            "7      106.020981\n",
            "8       63.799332\n",
            "9       46.459690\n",
            "10      41.515007\n",
            "11      38.957207\n",
            "12      38.370541\n",
            "    solar_zenith\n",
            "0      45.534126\n",
            "1      43.236790\n",
            "2      39.761745\n",
            "3      35.508755\n",
            "4      31.049667\n",
            "5      24.623917\n",
            "6      25.051178\n",
            "7      31.107407\n",
            "8      34.019474\n",
            "9      39.332912\n",
            "10     42.298904\n",
            "11     44.779724\n",
            "12     46.276974\n",
            "    solar_azimuth  solar_zenith\n",
            "0       41.201656     45.534126\n",
            "1       44.603764     43.236790\n",
            "2       49.145565     39.761745\n",
            "3       55.083778     35.508755\n",
            "4       62.930813     31.049667\n",
            "5       86.018692     24.623917\n",
            "6      109.071152     25.051178\n",
            "7      106.020981     31.107407\n",
            "8       63.799332     34.019474\n",
            "9       46.459690     39.332912\n",
            "10      41.515007     42.298904\n",
            "11      38.957207     44.779724\n",
            "12      38.370541     46.276974\n"
          ],
          "name": "stdout"
        }
      ]
    }
  ]
}