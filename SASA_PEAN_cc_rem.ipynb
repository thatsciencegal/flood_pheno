{
  "nbformat": 4,
  "nbformat_minor": 0,
  "metadata": {
    "colab": {
      "name": "SASA-PEAN_cc_rem.ipynb",
      "provenance": [],
      "mount_file_id": "1vnqIxoPBjtvhboWV9ZkzGGq5ADIjVpWE",
      "authorship_tag": "ABX9TyPo2xNpxLN97CRhlvaUk0ZC",
      "include_colab_link": true
    },
    "kernelspec": {
      "display_name": "Python 3",
      "name": "python3"
    }
  },
  "cells": [
    {
      "cell_type": "markdown",
      "metadata": {
        "id": "view-in-github",
        "colab_type": "text"
      },
      "source": [
        "<a href=\"https://colab.research.google.com/github/thatsciencegal/flood_pheno/blob/main/SASA_PEAN_cc_rem.ipynb\" target=\"_parent\"><img src=\"https://colab.research.google.com/assets/colab-badge.svg\" alt=\"Open In Colab\"/></a>"
      ]
    },
    {
      "cell_type": "markdown",
      "metadata": {
        "id": "0WIk5HxwwVB8"
      },
      "source": [
        "Initialize Google Earth Engine"
      ]
    },
    {
      "cell_type": "code",
      "metadata": {
        "id": "gpsF-ieimzax"
      },
      "source": [
        "import ee\r\n",
        "\r\n",
        "## Trigger the authentication flow\r\n",
        "ee.Authenticate()\r\n",
        "\r\n",
        "## Initialize the library\r\n",
        "ee.Initialize()\r\n",
        "\r\n",
        "## Test the API by printing elevation of Mt. Everest\r\n",
        "dem = ee.Image('USGS/SRTMGL1_003')\r\n",
        "xy = ee.Geometry.Point([86.9250, 27.9881])\r\n",
        "elev = dem.sample(xy, 30).first().get('elevation').getInfo()\r\n",
        "print('Mount Everest elevation (m):', elev)"
      ],
      "execution_count": null,
      "outputs": []
    },
    {
      "cell_type": "markdown",
      "metadata": {
        "id": "Dq8CR7S9yGyI"
      },
      "source": [
        "Add mapping abilities"
      ]
    },
    {
      "cell_type": "code",
      "metadata": {
        "id": "WGb13zabyLxz"
      },
      "source": [
        "import folium\r\n",
        "\r\n",
        "# Define the URL format used for Earth Engine generated map tiles.\r\n",
        "EE_TILES = 'https://earthengine.googleapis.com/map/{mapid}/{{z}}/{{x}}/{{y}}?token={token}'\r\n",
        "\r\n",
        "#@title Mapdisplay: Display GEE objects using folium.\r\n",
        "def Mapdisplay(center, dicc, Tiles=\"OpensTreetMap\",zoom_start=10):\r\n",
        "    '''\r\n",
        "    :param center: Center of the map (Latitude and Longitude).\r\n",
        "    :param dicc: Earth Engine Geometries or Tiles dictionary\r\n",
        "    :param Tiles: Mapbox Bright,Mapbox Control Room,Stamen Terrain,Stamen Toner,stamenwatercolor,cartodbpositron.\r\n",
        "    :zoom_start: Initial zoom level for the map.\r\n",
        "    :return: A folium.Map object.\r\n",
        "    '''\r\n",
        "    mapViz = folium.Map(location=center,tiles=Tiles, zoom_start=zoom_start)\r\n",
        "    for k,v in dicc.items():\r\n",
        "      if ee.image.Image in [type(x) for x in v.values()]:\r\n",
        "        folium.TileLayer(\r\n",
        "            tiles = v[\"tile_fetcher\"].url_format,\r\n",
        "            attr  = 'Google Earth Engine',\r\n",
        "            overlay =True,\r\n",
        "            name  = k\r\n",
        "          ).add_to(mapViz)\r\n",
        "      else:\r\n",
        "        folium.GeoJson(\r\n",
        "        data = v,\r\n",
        "        name = k\r\n",
        "          ).add_to(mapViz)\r\n",
        "    mapViz.add_child(folium.LayerControl())\r\n",
        "    return mapViz"
      ],
      "execution_count": 74,
      "outputs": []
    },
    {
      "cell_type": "markdown",
      "metadata": {
        "id": "_QyXQsRAwdvX"
      },
      "source": [
        "Import the Landsat 8 data for the area between São Salvador and Peixe Angical"
      ]
    },
    {
      "cell_type": "code",
      "metadata": {
        "id": "-BN6vkG7wkga"
      },
      "source": [
        "## Import the Landsat 8 data for the area between São Salvador and Peixe Angical\r\n",
        "## Import only the data with < 40% cloud cover\r\n",
        "\r\n",
        "l8SasaPean = ee.ImageCollection('LANDSAT/LC08/C01/T1_SR')\\\r\n",
        "          .filter(ee.Filter.eq('WRS_PATH', 222))\\\r\n",
        "          .filter(ee.Filter.eq('WRS_ROW', 69))\\\r\n",
        "          .filterDate('2017-07-01', '2018-06-30')\\\r\n",
        "          .filterMetadata('CLOUD_COVER', 'less_than', 40)\r\n",
        "\r\n",
        "count = l8SasaPean.size()\r\n",
        "print('Image count:', count.getInfo())"
      ],
      "execution_count": null,
      "outputs": []
    },
    {
      "cell_type": "markdown",
      "metadata": {
        "id": "0By2fnBfWACH"
      },
      "source": [
        "Get unique dates for each image in the collection"
      ]
    },
    {
      "cell_type": "code",
      "metadata": {
        "id": "pVR4qW-jWGRQ"
      },
      "source": [
        "def ymdList(imgcol):\r\n",
        "    def iter_func(image, newlist):\r\n",
        "        date = ee.Number.parse(image.date().format(\"YYYYMMdd\"));\r\n",
        "        newlist = ee.List(newlist);\r\n",
        "        return ee.List(newlist.add(date).sort())\r\n",
        "    ymd = imgcol.iterate(iter_func, ee.List([]))\r\n",
        "    return list(ee.List(ymd).reduce(ee.Reducer.frequencyHistogram()).getInfo().keys())\r\n",
        "\r\n",
        "ymd = ymdList(l8SasaPean)\r\n",
        "\r\n",
        "from pandas import DataFrame\r\n",
        "\r\n",
        "ymdDf = DataFrame(ymd, columns=['date'])\r\n",
        "\r\n",
        "print(ymdDf)"
      ],
      "execution_count": null,
      "outputs": []
    },
    {
      "cell_type": "markdown",
      "metadata": {
        "id": "V77d47kjB2H7"
      },
      "source": [
        "Get sun angle information from metadata"
      ]
    },
    {
      "cell_type": "code",
      "metadata": {
        "id": "Xx6GrhkbB7dP"
      },
      "source": [
        "## Get sun angle info\r\n",
        "sunAz = l8SasaPean.aggregate_array('SOLAR_AZIMUTH_ANGLE')\r\n",
        "print(sunAz.getInfo())\r\n",
        "\r\n",
        "sunZen = l8SasaPean.aggregate_array('SOLAR_ZENITH_ANGLE')\r\n",
        "print(sunZen.getInfo())\r\n",
        "\r\n",
        "## Change list into dataframe\r\n",
        "from pandas import DataFrame\r\n",
        "import pandas as pd\r\n",
        "\r\n",
        "sunAzDf = DataFrame(sunAz.getInfo(), columns=['solar_azimuth'])\r\n",
        "sunZenDf = DataFrame(sunZen.getInfo(), columns=['solar_zenith'])\r\n",
        "\r\n",
        "frames = [sunAzDf, sunZenDf]\r\n",
        "\r\n",
        "sunAngles = pd.concat(frames, axis=1)\r\n",
        "print(sunAngles)"
      ],
      "execution_count": null,
      "outputs": []
    },
    {
      "cell_type": "markdown",
      "metadata": {
        "id": "apx_yswoB9Hd"
      },
      "source": [
        ""
      ]
    }
  ]
}